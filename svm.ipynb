{
 "cells": [
  {
   "cell_type": "code",
   "id": "initial_id",
   "metadata": {
    "collapsed": true,
    "ExecuteTime": {
     "end_time": "2024-12-12T17:20:26.643882Z",
     "start_time": "2024-12-12T17:20:26.639065Z"
    }
   },
   "source": [
    "import pandas as pd\n",
    "import matplotlib.pyplot as plt\n",
    "from sklearn.preprocessing import MinMaxScaler\n",
    "from sklearn import svm\n",
    "from sklearn.preprocessing import LabelEncoder, OrdinalEncoder\n",
    "from sklearn.metrics import confusion_matrix, ConfusionMatrixDisplay, classification_report\n"
   ],
   "outputs": [],
   "execution_count": 5
  },
  {
   "metadata": {
    "ExecuteTime": {
     "end_time": "2024-12-12T17:20:26.690474Z",
     "start_time": "2024-12-12T17:20:26.666420Z"
    }
   },
   "cell_type": "code",
   "source": [
    "mushroom_data = pd.read_csv('C:/Users/이주환/Desktop/SSU/2학기/AI와머신러닝/mushroom_project/mushrooms.csv')\n",
    "mushroom_data.head()"
   ],
   "id": "7cbe3d3f05aae9a1",
   "outputs": [
    {
     "data": {
      "text/plain": [
       "  class cap-shape cap-surface cap-color bruises odor gill-attachment  \\\n",
       "0     p         x           s         n       t    p               f   \n",
       "1     e         x           s         y       t    a               f   \n",
       "2     e         b           s         w       t    l               f   \n",
       "3     p         x           y         w       t    p               f   \n",
       "4     e         x           s         g       f    n               f   \n",
       "\n",
       "  gill-spacing gill-size gill-color  ... stalk-surface-below-ring  \\\n",
       "0            c         n          k  ...                        s   \n",
       "1            c         b          k  ...                        s   \n",
       "2            c         b          n  ...                        s   \n",
       "3            c         n          n  ...                        s   \n",
       "4            w         b          k  ...                        s   \n",
       "\n",
       "  stalk-color-above-ring stalk-color-below-ring veil-type veil-color  \\\n",
       "0                      w                      w         p          w   \n",
       "1                      w                      w         p          w   \n",
       "2                      w                      w         p          w   \n",
       "3                      w                      w         p          w   \n",
       "4                      w                      w         p          w   \n",
       "\n",
       "  ring-number ring-type spore-print-color population habitat  \n",
       "0           o         p                 k          s       u  \n",
       "1           o         p                 n          n       g  \n",
       "2           o         p                 n          n       m  \n",
       "3           o         p                 k          s       u  \n",
       "4           o         e                 n          a       g  \n",
       "\n",
       "[5 rows x 23 columns]"
      ],
      "text/html": [
       "<div>\n",
       "<style scoped>\n",
       "    .dataframe tbody tr th:only-of-type {\n",
       "        vertical-align: middle;\n",
       "    }\n",
       "\n",
       "    .dataframe tbody tr th {\n",
       "        vertical-align: top;\n",
       "    }\n",
       "\n",
       "    .dataframe thead th {\n",
       "        text-align: right;\n",
       "    }\n",
       "</style>\n",
       "<table border=\"1\" class=\"dataframe\">\n",
       "  <thead>\n",
       "    <tr style=\"text-align: right;\">\n",
       "      <th></th>\n",
       "      <th>class</th>\n",
       "      <th>cap-shape</th>\n",
       "      <th>cap-surface</th>\n",
       "      <th>cap-color</th>\n",
       "      <th>bruises</th>\n",
       "      <th>odor</th>\n",
       "      <th>gill-attachment</th>\n",
       "      <th>gill-spacing</th>\n",
       "      <th>gill-size</th>\n",
       "      <th>gill-color</th>\n",
       "      <th>...</th>\n",
       "      <th>stalk-surface-below-ring</th>\n",
       "      <th>stalk-color-above-ring</th>\n",
       "      <th>stalk-color-below-ring</th>\n",
       "      <th>veil-type</th>\n",
       "      <th>veil-color</th>\n",
       "      <th>ring-number</th>\n",
       "      <th>ring-type</th>\n",
       "      <th>spore-print-color</th>\n",
       "      <th>population</th>\n",
       "      <th>habitat</th>\n",
       "    </tr>\n",
       "  </thead>\n",
       "  <tbody>\n",
       "    <tr>\n",
       "      <th>0</th>\n",
       "      <td>p</td>\n",
       "      <td>x</td>\n",
       "      <td>s</td>\n",
       "      <td>n</td>\n",
       "      <td>t</td>\n",
       "      <td>p</td>\n",
       "      <td>f</td>\n",
       "      <td>c</td>\n",
       "      <td>n</td>\n",
       "      <td>k</td>\n",
       "      <td>...</td>\n",
       "      <td>s</td>\n",
       "      <td>w</td>\n",
       "      <td>w</td>\n",
       "      <td>p</td>\n",
       "      <td>w</td>\n",
       "      <td>o</td>\n",
       "      <td>p</td>\n",
       "      <td>k</td>\n",
       "      <td>s</td>\n",
       "      <td>u</td>\n",
       "    </tr>\n",
       "    <tr>\n",
       "      <th>1</th>\n",
       "      <td>e</td>\n",
       "      <td>x</td>\n",
       "      <td>s</td>\n",
       "      <td>y</td>\n",
       "      <td>t</td>\n",
       "      <td>a</td>\n",
       "      <td>f</td>\n",
       "      <td>c</td>\n",
       "      <td>b</td>\n",
       "      <td>k</td>\n",
       "      <td>...</td>\n",
       "      <td>s</td>\n",
       "      <td>w</td>\n",
       "      <td>w</td>\n",
       "      <td>p</td>\n",
       "      <td>w</td>\n",
       "      <td>o</td>\n",
       "      <td>p</td>\n",
       "      <td>n</td>\n",
       "      <td>n</td>\n",
       "      <td>g</td>\n",
       "    </tr>\n",
       "    <tr>\n",
       "      <th>2</th>\n",
       "      <td>e</td>\n",
       "      <td>b</td>\n",
       "      <td>s</td>\n",
       "      <td>w</td>\n",
       "      <td>t</td>\n",
       "      <td>l</td>\n",
       "      <td>f</td>\n",
       "      <td>c</td>\n",
       "      <td>b</td>\n",
       "      <td>n</td>\n",
       "      <td>...</td>\n",
       "      <td>s</td>\n",
       "      <td>w</td>\n",
       "      <td>w</td>\n",
       "      <td>p</td>\n",
       "      <td>w</td>\n",
       "      <td>o</td>\n",
       "      <td>p</td>\n",
       "      <td>n</td>\n",
       "      <td>n</td>\n",
       "      <td>m</td>\n",
       "    </tr>\n",
       "    <tr>\n",
       "      <th>3</th>\n",
       "      <td>p</td>\n",
       "      <td>x</td>\n",
       "      <td>y</td>\n",
       "      <td>w</td>\n",
       "      <td>t</td>\n",
       "      <td>p</td>\n",
       "      <td>f</td>\n",
       "      <td>c</td>\n",
       "      <td>n</td>\n",
       "      <td>n</td>\n",
       "      <td>...</td>\n",
       "      <td>s</td>\n",
       "      <td>w</td>\n",
       "      <td>w</td>\n",
       "      <td>p</td>\n",
       "      <td>w</td>\n",
       "      <td>o</td>\n",
       "      <td>p</td>\n",
       "      <td>k</td>\n",
       "      <td>s</td>\n",
       "      <td>u</td>\n",
       "    </tr>\n",
       "    <tr>\n",
       "      <th>4</th>\n",
       "      <td>e</td>\n",
       "      <td>x</td>\n",
       "      <td>s</td>\n",
       "      <td>g</td>\n",
       "      <td>f</td>\n",
       "      <td>n</td>\n",
       "      <td>f</td>\n",
       "      <td>w</td>\n",
       "      <td>b</td>\n",
       "      <td>k</td>\n",
       "      <td>...</td>\n",
       "      <td>s</td>\n",
       "      <td>w</td>\n",
       "      <td>w</td>\n",
       "      <td>p</td>\n",
       "      <td>w</td>\n",
       "      <td>o</td>\n",
       "      <td>e</td>\n",
       "      <td>n</td>\n",
       "      <td>a</td>\n",
       "      <td>g</td>\n",
       "    </tr>\n",
       "  </tbody>\n",
       "</table>\n",
       "<p>5 rows × 23 columns</p>\n",
       "</div>"
      ]
     },
     "execution_count": 6,
     "metadata": {},
     "output_type": "execute_result"
    }
   ],
   "execution_count": 6
  },
  {
   "metadata": {
    "ExecuteTime": {
     "end_time": "2024-12-12T17:20:26.742410Z",
     "start_time": "2024-12-12T17:20:26.732077Z"
    }
   },
   "cell_type": "code",
   "source": "mushroom_data.info",
   "id": "4d976bdf5e242735",
   "outputs": [
    {
     "data": {
      "text/plain": [
       "<bound method DataFrame.info of      class cap-shape cap-surface cap-color bruises odor gill-attachment  \\\n",
       "0        p         x           s         n       t    p               f   \n",
       "1        e         x           s         y       t    a               f   \n",
       "2        e         b           s         w       t    l               f   \n",
       "3        p         x           y         w       t    p               f   \n",
       "4        e         x           s         g       f    n               f   \n",
       "...    ...       ...         ...       ...     ...  ...             ...   \n",
       "8119     e         k           s         n       f    n               a   \n",
       "8120     e         x           s         n       f    n               a   \n",
       "8121     e         f           s         n       f    n               a   \n",
       "8122     p         k           y         n       f    y               f   \n",
       "8123     e         x           s         n       f    n               a   \n",
       "\n",
       "     gill-spacing gill-size gill-color  ... stalk-surface-below-ring  \\\n",
       "0               c         n          k  ...                        s   \n",
       "1               c         b          k  ...                        s   \n",
       "2               c         b          n  ...                        s   \n",
       "3               c         n          n  ...                        s   \n",
       "4               w         b          k  ...                        s   \n",
       "...           ...       ...        ...  ...                      ...   \n",
       "8119            c         b          y  ...                        s   \n",
       "8120            c         b          y  ...                        s   \n",
       "8121            c         b          n  ...                        s   \n",
       "8122            c         n          b  ...                        k   \n",
       "8123            c         b          y  ...                        s   \n",
       "\n",
       "     stalk-color-above-ring stalk-color-below-ring veil-type veil-color  \\\n",
       "0                         w                      w         p          w   \n",
       "1                         w                      w         p          w   \n",
       "2                         w                      w         p          w   \n",
       "3                         w                      w         p          w   \n",
       "4                         w                      w         p          w   \n",
       "...                     ...                    ...       ...        ...   \n",
       "8119                      o                      o         p          o   \n",
       "8120                      o                      o         p          n   \n",
       "8121                      o                      o         p          o   \n",
       "8122                      w                      w         p          w   \n",
       "8123                      o                      o         p          o   \n",
       "\n",
       "     ring-number ring-type spore-print-color population habitat  \n",
       "0              o         p                 k          s       u  \n",
       "1              o         p                 n          n       g  \n",
       "2              o         p                 n          n       m  \n",
       "3              o         p                 k          s       u  \n",
       "4              o         e                 n          a       g  \n",
       "...          ...       ...               ...        ...     ...  \n",
       "8119           o         p                 b          c       l  \n",
       "8120           o         p                 b          v       l  \n",
       "8121           o         p                 b          c       l  \n",
       "8122           o         e                 w          v       l  \n",
       "8123           o         p                 o          c       l  \n",
       "\n",
       "[8124 rows x 23 columns]>"
      ]
     },
     "execution_count": 7,
     "metadata": {},
     "output_type": "execute_result"
    }
   ],
   "execution_count": 7
  },
  {
   "metadata": {
    "ExecuteTime": {
     "end_time": "2024-12-12T17:20:26.876948Z",
     "start_time": "2024-12-12T17:20:26.871081Z"
    }
   },
   "cell_type": "code",
   "source": "mushroom_data.dtypes",
   "id": "da546ef24386e6b4",
   "outputs": [
    {
     "data": {
      "text/plain": [
       "class                       object\n",
       "cap-shape                   object\n",
       "cap-surface                 object\n",
       "cap-color                   object\n",
       "bruises                     object\n",
       "odor                        object\n",
       "gill-attachment             object\n",
       "gill-spacing                object\n",
       "gill-size                   object\n",
       "gill-color                  object\n",
       "stalk-shape                 object\n",
       "stalk-root                  object\n",
       "stalk-surface-above-ring    object\n",
       "stalk-surface-below-ring    object\n",
       "stalk-color-above-ring      object\n",
       "stalk-color-below-ring      object\n",
       "veil-type                   object\n",
       "veil-color                  object\n",
       "ring-number                 object\n",
       "ring-type                   object\n",
       "spore-print-color           object\n",
       "population                  object\n",
       "habitat                     object\n",
       "dtype: object"
      ]
     },
     "execution_count": 8,
     "metadata": {},
     "output_type": "execute_result"
    }
   ],
   "execution_count": 8
  },
  {
   "metadata": {
    "ExecuteTime": {
     "end_time": "2024-12-12T17:20:27.076676Z",
     "start_time": "2024-12-12T17:20:27.071910Z"
    }
   },
   "cell_type": "code",
   "source": "mushroom_data.columns",
   "id": "d0ca2c1f4f8e0a30",
   "outputs": [
    {
     "data": {
      "text/plain": [
       "Index(['class', 'cap-shape', 'cap-surface', 'cap-color', 'bruises', 'odor',\n",
       "       'gill-attachment', 'gill-spacing', 'gill-size', 'gill-color',\n",
       "       'stalk-shape', 'stalk-root', 'stalk-surface-above-ring',\n",
       "       'stalk-surface-below-ring', 'stalk-color-above-ring',\n",
       "       'stalk-color-below-ring', 'veil-type', 'veil-color', 'ring-number',\n",
       "       'ring-type', 'spore-print-color', 'population', 'habitat'],\n",
       "      dtype='object')"
      ]
     },
     "execution_count": 9,
     "metadata": {},
     "output_type": "execute_result"
    }
   ],
   "execution_count": 9
  },
  {
   "metadata": {
    "ExecuteTime": {
     "end_time": "2024-12-12T17:20:27.282551Z",
     "start_time": "2024-12-12T17:20:27.276325Z"
    }
   },
   "cell_type": "code",
   "source": "mushroom_data['population'].value_counts()",
   "id": "cfb46673e354b966",
   "outputs": [
    {
     "data": {
      "text/plain": [
       "population\n",
       "v    4040\n",
       "y    1712\n",
       "s    1248\n",
       "n     400\n",
       "a     384\n",
       "c     340\n",
       "Name: count, dtype: int64"
      ]
     },
     "execution_count": 10,
     "metadata": {},
     "output_type": "execute_result"
    }
   ],
   "execution_count": 10
  },
  {
   "metadata": {
    "ExecuteTime": {
     "end_time": "2024-12-12T17:20:27.412911Z",
     "start_time": "2024-12-12T17:20:27.400795Z"
    }
   },
   "cell_type": "code",
   "source": "mushroom_data.isna().sum()",
   "id": "c44e92e941db154b",
   "outputs": [
    {
     "data": {
      "text/plain": [
       "class                       0\n",
       "cap-shape                   0\n",
       "cap-surface                 0\n",
       "cap-color                   0\n",
       "bruises                     0\n",
       "odor                        0\n",
       "gill-attachment             0\n",
       "gill-spacing                0\n",
       "gill-size                   0\n",
       "gill-color                  0\n",
       "stalk-shape                 0\n",
       "stalk-root                  0\n",
       "stalk-surface-above-ring    0\n",
       "stalk-surface-below-ring    0\n",
       "stalk-color-above-ring      0\n",
       "stalk-color-below-ring      0\n",
       "veil-type                   0\n",
       "veil-color                  0\n",
       "ring-number                 0\n",
       "ring-type                   0\n",
       "spore-print-color           0\n",
       "population                  0\n",
       "habitat                     0\n",
       "dtype: int64"
      ]
     },
     "execution_count": 11,
     "metadata": {},
     "output_type": "execute_result"
    }
   ],
   "execution_count": 11
  },
  {
   "metadata": {
    "ExecuteTime": {
     "end_time": "2024-12-12T17:20:27.547740Z",
     "start_time": "2024-12-12T17:20:27.543461Z"
    }
   },
   "cell_type": "code",
   "source": [
    "mushroom_target = mushroom_data['class']\n",
    "mushroom_input = mushroom_data.drop(['class'], axis=1)"
   ],
   "id": "71bf893a3a8a64f7",
   "outputs": [],
   "execution_count": 12
  },
  {
   "metadata": {
    "ExecuteTime": {
     "end_time": "2024-12-12T17:20:27.671253Z",
     "start_time": "2024-12-12T17:20:27.661434Z"
    }
   },
   "cell_type": "code",
   "source": [
    "from sklearn.model_selection import train_test_split\n",
    "train_input, test_input, train_target, test_target = train_test_split(mushroom_input, mushroom_target, train_size = 0.8, random_state=42, stratify = mushroom_target)"
   ],
   "id": "79994f4ca23388d1",
   "outputs": [],
   "execution_count": 13
  },
  {
   "metadata": {
    "ExecuteTime": {
     "end_time": "2024-12-12T17:20:27.768788Z",
     "start_time": "2024-12-12T17:20:27.759916Z"
    }
   },
   "cell_type": "code",
   "source": "train_target.value_counts()",
   "id": "e08f018d5fe63dc5",
   "outputs": [
    {
     "data": {
      "text/plain": [
       "class\n",
       "e    3366\n",
       "p    3133\n",
       "Name: count, dtype: int64"
      ]
     },
     "execution_count": 14,
     "metadata": {},
     "output_type": "execute_result"
    }
   ],
   "execution_count": 14
  },
  {
   "metadata": {
    "ExecuteTime": {
     "end_time": "2024-12-12T17:20:27.882073Z",
     "start_time": "2024-12-12T17:20:27.876561Z"
    }
   },
   "cell_type": "code",
   "source": "test_target.value_counts()",
   "id": "d8f705eb498edcb",
   "outputs": [
    {
     "data": {
      "text/plain": [
       "class\n",
       "e    842\n",
       "p    783\n",
       "Name: count, dtype: int64"
      ]
     },
     "execution_count": 15,
     "metadata": {},
     "output_type": "execute_result"
    }
   ],
   "execution_count": 15
  },
  {
   "metadata": {
    "ExecuteTime": {
     "end_time": "2024-12-12T17:20:28.004388Z",
     "start_time": "2024-12-12T17:20:28.000150Z"
    }
   },
   "cell_type": "code",
   "source": [
    "ordinal_encoder = OrdinalEncoder()\n",
    "label_encoder = LabelEncoder()"
   ],
   "id": "c7da4242887196f4",
   "outputs": [],
   "execution_count": 16
  },
  {
   "metadata": {
    "ExecuteTime": {
     "end_time": "2024-12-12T17:20:28.184290Z",
     "start_time": "2024-12-12T17:20:28.142990Z"
    }
   },
   "cell_type": "code",
   "source": [
    "train_input_transf = ordinal_encoder.fit_transform(train_input)\n",
    "test_input_transf = ordinal_encoder.fit_transform(test_input)\n",
    "\n",
    "train_target_transf = label_encoder.fit_transform(train_target)\n",
    "test_target_transf = label_encoder.fit_transform(test_target)"
   ],
   "id": "22c5dd514255168c",
   "outputs": [],
   "execution_count": 17
  },
  {
   "metadata": {
    "ExecuteTime": {
     "end_time": "2024-12-12T17:20:28.259750Z",
     "start_time": "2024-12-12T17:20:28.253522Z"
    }
   },
   "cell_type": "code",
   "source": "train_input_transf",
   "id": "93c5c1e92d5411ca",
   "outputs": [
    {
     "data": {
      "text/plain": [
       "array([[2., 3., 9., ..., 1., 5., 1.],\n",
       "       [5., 2., 5., ..., 7., 1., 6.],\n",
       "       [0., 2., 3., ..., 7., 3., 1.],\n",
       "       ...,\n",
       "       [2., 0., 8., ..., 2., 0., 1.],\n",
       "       [5., 0., 3., ..., 3., 5., 0.],\n",
       "       [2., 0., 4., ..., 3., 4., 0.]])"
      ]
     },
     "execution_count": 18,
     "metadata": {},
     "output_type": "execute_result"
    }
   ],
   "execution_count": 18
  },
  {
   "metadata": {
    "ExecuteTime": {
     "end_time": "2024-12-12T17:20:28.335926Z",
     "start_time": "2024-12-12T17:20:28.331737Z"
    }
   },
   "cell_type": "code",
   "source": "train_target_transf",
   "id": "3c0e39038ea0d5a8",
   "outputs": [
    {
     "data": {
      "text/plain": [
       "array([1, 0, 0, ..., 0, 0, 0])"
      ]
     },
     "execution_count": 19,
     "metadata": {},
     "output_type": "execute_result"
    }
   ],
   "execution_count": 19
  },
  {
   "metadata": {
    "ExecuteTime": {
     "end_time": "2024-12-12T17:20:28.431326Z",
     "start_time": "2024-12-12T17:20:28.425881Z"
    }
   },
   "cell_type": "code",
   "source": "test_input_transf.dtype",
   "id": "5617f38590473aa4",
   "outputs": [
    {
     "data": {
      "text/plain": [
       "dtype('float64')"
      ]
     },
     "execution_count": 20,
     "metadata": {},
     "output_type": "execute_result"
    }
   ],
   "execution_count": 20
  },
  {
   "metadata": {
    "ExecuteTime": {
     "end_time": "2024-12-12T17:20:28.513532Z",
     "start_time": "2024-12-12T17:20:28.505968Z"
    }
   },
   "cell_type": "code",
   "source": [
    "scaling = MinMaxScaler(feature_range=(-1,1)).fit(train_input_transf)\n",
    "train_input_rescaled = scaling.transform(train_input_transf)"
   ],
   "id": "f6d9064c4398f27d",
   "outputs": [],
   "execution_count": 21
  },
  {
   "metadata": {
    "ExecuteTime": {
     "end_time": "2024-12-12T17:20:29.281815Z",
     "start_time": "2024-12-12T17:20:28.597427Z"
    }
   },
   "cell_type": "code",
   "source": [
    "C = 1.0\n",
    "svc = svm.SVC(kernel='linear',C=C).fit(train_input_rescaled, train_target_transf)"
   ],
   "id": "29dab627015c96d9",
   "outputs": [],
   "execution_count": 22
  },
  {
   "metadata": {
    "ExecuteTime": {
     "end_time": "2024-12-12T17:20:29.355129Z",
     "start_time": "2024-12-12T17:20:29.316491Z"
    }
   },
   "cell_type": "code",
   "source": "test_pred_target = svc.predict(scaling.transform(test_input_transf))",
   "id": "c341d3055a1d14dc",
   "outputs": [],
   "execution_count": 23
  },
  {
   "metadata": {
    "ExecuteTime": {
     "end_time": "2024-12-12T17:20:29.391860Z",
     "start_time": "2024-12-12T17:20:29.388278Z"
    }
   },
   "cell_type": "code",
   "source": "test_pred_target",
   "id": "769d3af53404c484",
   "outputs": [
    {
     "data": {
      "text/plain": [
       "array([1, 1, 0, ..., 0, 0, 0])"
      ]
     },
     "execution_count": 24,
     "metadata": {},
     "output_type": "execute_result"
    }
   ],
   "execution_count": 24
  },
  {
   "metadata": {
    "ExecuteTime": {
     "end_time": "2024-12-12T17:20:29.440289Z",
     "start_time": "2024-12-12T17:20:29.436382Z"
    }
   },
   "cell_type": "code",
   "source": "scaling = MinMaxScaler(feature_range=(-1,1)).fit(train_input_transf)",
   "id": "665dfbc77cfc7f0b",
   "outputs": [],
   "execution_count": 25
  },
  {
   "metadata": {
    "ExecuteTime": {
     "end_time": "2024-12-12T17:20:29.489037Z",
     "start_time": "2024-12-12T17:20:29.484265Z"
    }
   },
   "cell_type": "code",
   "source": "train_input_rescaled = scaling.transform(train_input_transf)",
   "id": "293705de7ff23ec5",
   "outputs": [],
   "execution_count": 26
  },
  {
   "metadata": {
    "ExecuteTime": {
     "end_time": "2024-12-12T17:20:29.576623Z",
     "start_time": "2024-12-12T17:20:29.571261Z"
    }
   },
   "cell_type": "code",
   "source": "train_input_rescaled",
   "id": "4730bc7fb8009bf7",
   "outputs": [
    {
     "data": {
      "text/plain": [
       "array([[-0.2       ,  1.        ,  1.        , ..., -0.75      ,\n",
       "         1.        , -0.66666667],\n",
       "       [ 1.        ,  0.33333333,  0.11111111, ...,  0.75      ,\n",
       "        -0.6       ,  1.        ],\n",
       "       [-1.        ,  0.33333333, -0.33333333, ...,  0.75      ,\n",
       "         0.2       , -0.66666667],\n",
       "       ...,\n",
       "       [-0.2       , -1.        ,  0.77777778, ..., -0.5       ,\n",
       "        -1.        , -0.66666667],\n",
       "       [ 1.        , -1.        , -0.33333333, ..., -0.25      ,\n",
       "         1.        , -1.        ],\n",
       "       [-0.2       , -1.        , -0.11111111, ..., -0.25      ,\n",
       "         0.6       , -1.        ]])"
      ]
     },
     "execution_count": 27,
     "metadata": {},
     "output_type": "execute_result"
    }
   ],
   "execution_count": 27
  },
  {
   "metadata": {
    "ExecuteTime": {
     "end_time": "2024-12-12T17:20:30.241584Z",
     "start_time": "2024-12-12T17:20:29.650171Z"
    }
   },
   "cell_type": "code",
   "source": "scv = svm.SVC(kernel=\"linear\", C=C).fit(train_input_rescaled, train_target_transf)",
   "id": "aaf5c1aef4a65297",
   "outputs": [],
   "execution_count": 28
  },
  {
   "metadata": {
    "ExecuteTime": {
     "end_time": "2024-12-12T17:20:30.318515Z",
     "start_time": "2024-12-12T17:20:30.282729Z"
    }
   },
   "cell_type": "code",
   "source": "test_pred_target = scv.predict(scaling.transform(test_input_transf))",
   "id": "ae73fd1010b7eaa2",
   "outputs": [],
   "execution_count": 29
  },
  {
   "metadata": {
    "ExecuteTime": {
     "end_time": "2024-12-12T17:20:30.574517Z",
     "start_time": "2024-12-12T17:20:30.382517Z"
    }
   },
   "cell_type": "code",
   "source": [
    "fix, ax = plt.subplots(figsize=(8,5))\n",
    "cmp = ConfusionMatrixDisplay(\n",
    "    confusion_matrix(test_target_transf, test_pred_target),\n",
    "    display_labels=[\"Edible\", \"Poisonous\"])\n",
    "cmp.plot(ax=ax, cmap='Blues')"
   ],
   "id": "ca2723a0b84e9ff6",
   "outputs": [
    {
     "data": {
      "text/plain": [
       "<sklearn.metrics._plot.confusion_matrix.ConfusionMatrixDisplay at 0x240c0eecf50>"
      ]
     },
     "execution_count": 30,
     "metadata": {},
     "output_type": "execute_result"
    },
    {
     "data": {
      "text/plain": [
       "<Figure size 800x500 with 2 Axes>"
      ],
      "image/png": "[encoded data removed]"
     },
     "metadata": {},
     "output_type": "display_data"
    }
   ],
   "execution_count": 30
  },
  {
   "metadata": {
    "ExecuteTime": {
     "end_time": "2024-12-12T17:20:30.592560Z",
     "start_time": "2024-12-12T17:20:30.583565Z"
    }
   },
   "cell_type": "code",
   "source": "print(classification_report(test_target_transf, test_pred_target, target_names=[\"Edible\",\"Poisonous\"]))",
   "id": "b4e2bb587449355d",
   "outputs": [
    {
     "name": "stdout",
     "output_type": "stream",
     "text": [
      "              precision    recall  f1-score   support\n",
      "\n",
      "      Edible       0.97      0.99      0.98       842\n",
      "   Poisonous       0.99      0.96      0.97       783\n",
      "\n",
      "    accuracy                           0.98      1625\n",
      "   macro avg       0.98      0.98      0.98      1625\n",
      "weighted avg       0.98      0.98      0.98      1625\n",
      "\n"
     ]
    }
   ],
   "execution_count": 31
  },
  {
   "metadata": {
    "ExecuteTime": {
     "end_time": "2024-12-12T17:20:31.191034Z",
     "start_time": "2024-12-12T17:20:30.630944Z"
    }
   },
   "cell_type": "code",
   "source": [
    "C = 1.0\n",
    "svc = svm.SVC(kernel=\"linear\",C=C).fit(train_input_rescaled, train_target_transf)"
   ],
   "id": "d749a46453ab082d",
   "outputs": [],
   "execution_count": 32
  },
  {
   "metadata": {
    "ExecuteTime": {
     "end_time": "2024-12-12T17:20:31.247272Z",
     "start_time": "2024-12-12T17:20:31.216335Z"
    }
   },
   "cell_type": "code",
   "source": "y_pred_test = svc.predict(scaling.transform(test_input_transf))",
   "id": "eb3e22c6b3e93523",
   "outputs": [],
   "execution_count": 33
  },
  {
   "metadata": {
    "ExecuteTime": {
     "end_time": "2024-12-12T17:20:31.277825Z",
     "start_time": "2024-12-12T17:20:31.273026Z"
    }
   },
   "cell_type": "code",
   "source": "mushroom_data.columns",
   "id": "5459031f873cac07",
   "outputs": [
    {
     "data": {
      "text/plain": [
       "Index(['class', 'cap-shape', 'cap-surface', 'cap-color', 'bruises', 'odor',\n",
       "       'gill-attachment', 'gill-spacing', 'gill-size', 'gill-color',\n",
       "       'stalk-shape', 'stalk-root', 'stalk-surface-above-ring',\n",
       "       'stalk-surface-below-ring', 'stalk-color-above-ring',\n",
       "       'stalk-color-below-ring', 'veil-type', 'veil-color', 'ring-number',\n",
       "       'ring-type', 'spore-print-color', 'population', 'habitat'],\n",
       "      dtype='object')"
      ]
     },
     "execution_count": 34,
     "metadata": {},
     "output_type": "execute_result"
    }
   ],
   "execution_count": 34
  },
  {
   "metadata": {
    "ExecuteTime": {
     "end_time": "2024-12-12T17:20:31.316276Z",
     "start_time": "2024-12-12T17:20:31.313173Z"
    }
   },
   "cell_type": "code",
   "source": [
    "parameter_tuned = [\n",
    "    {\"kernel\":[\"linear\"], 'C':[1,10]},\n",
    "    {\"kernel\":['poly'],'C':[1,10]},\n",
    "    {\"kernel\":['rbf'],'gamma':[1e-3,1e-4],'C':[1,10]}\n",
    "]"
   ],
   "id": "3f7329040bc1e36a",
   "outputs": [],
   "execution_count": 35
  },
  {
   "metadata": {
    "ExecuteTime": {
     "end_time": "2024-12-12T17:20:47.264981Z",
     "start_time": "2024-12-12T17:20:31.348973Z"
    }
   },
   "cell_type": "code",
   "source": [
    "from sklearn.model_selection import GridSearchCV\n",
    "from sklearn import svm\n",
    "\n",
    "def tuned(result) :\n",
    "    means = result['mean_test_score']\n",
    "    stds = result['std_test_score']\n",
    "    best_params = result['params'][means.argmax()]\n",
    "    \n",
    "    print('최적의 파라미터 : {}\\n'.format(best_params))\n",
    "    print('평균 테스트 점수 : {}\\n'.format(round(means.mean(), 3)))\n",
    "    print('Std test score: {}'.format(round(stds.mean(),3)))\n",
    "    \n",
    "    for mean, std, params in zip(means, stds, result['params']) :\n",
    "        print('{} (x-/{}) for {}'.format(round(mean,3), round(std*2,3),params))\n",
    "    \n",
    "gcv = GridSearchCV(svm.SVC(), parameter_tuned, cv=5)\n",
    "gcv.fit(train_input_rescaled, train_target_transf)\n",
    "tuned(gcv.cv_results_)"
   ],
   "id": "2d4c5e5c40c24c19",
   "outputs": [
    {
     "name": "stdout",
     "output_type": "stream",
     "text": [
      "최적의 파라미터 : {'C': 1, 'kernel': 'poly'}\n",
      "\n",
      "평균 테스트 점수 : 0.952\n",
      "\n",
      "Std test score: 0.003\n",
      "0.956 (x-/0.009) for {'C': 1, 'kernel': 'linear'}\n",
      "0.982 (x-/0.01) for {'C': 10, 'kernel': 'linear'}\n",
      "1.0 (x-/0.0) for {'C': 1, 'kernel': 'poly'}\n",
      "1.0 (x-/0.0) for {'C': 10, 'kernel': 'poly'}\n",
      "0.923 (x-/0.007) for {'C': 1, 'gamma': 0.001, 'kernel': 'rbf'}\n",
      "0.886 (x-/0.01) for {'C': 1, 'gamma': 0.0001, 'kernel': 'rbf'}\n",
      "0.945 (x-/0.008) for {'C': 10, 'gamma': 0.001, 'kernel': 'rbf'}\n",
      "0.923 (x-/0.007) for {'C': 10, 'gamma': 0.0001, 'kernel': 'rbf'}\n"
     ]
    }
   ],
   "execution_count": 36
  }
 ],
 "metadata": {
  "kernelspec": {
   "display_name": "Python 3",
   "language": "python",
   "name": "python3"
  },
  "language_info": {
   "codemirror_mode": {
    "name": "ipython",
    "version": 2
   },
   "file_extension": ".py",
   "mimetype": "text/x-python",
   "name": "python",
   "nbconvert_exporter": "python",
   "pygments_lexer": "ipython2",
   "version": "2.7.6"
  }
 },
 "nbformat": 4,
 "nbformat_minor": 5
}
